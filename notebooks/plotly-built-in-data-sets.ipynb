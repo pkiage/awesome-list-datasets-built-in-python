{
 "cells": [
  {
   "cell_type": "markdown",
   "id": "31f05ec4",
   "metadata": {},
   "source": [
    "Dynamic render:\n",
    "\n"
   ]
  },
  {
   "cell_type": "code",
   "execution_count": null,
   "id": "063ed5db",
   "metadata": {},
   "outputs": [],
   "source": [
    "import plotly"
   ]
  },
  {
   "cell_type": "code",
   "execution_count": null,
   "id": "5c11b0c1",
   "metadata": {},
   "outputs": [],
   "source": [
    "def print_shape_and_head__and_column_types(df,n):\n",
    "    print('Shape:')\n",
    "    print(f'({df.shape[0]} Rows, {df.shape[1]} Columns) \\n')\n",
    "    \n",
    "    print(f'First {n} rows:')\n",
    "    print(df.head(n))\n",
    "    \n",
    "    print('\\nColumn types:')\n",
    "    print(df.dtypes)    "
   ]
  },
  {
   "cell_type": "markdown",
   "id": "c5d0115b",
   "metadata": {},
   "source": [
    "# Built-in Datasets"
   ]
  },
  {
   "cell_type": "markdown",
   "id": "eba29c7f",
   "metadata": {},
   "source": [
    "```\n",
    "\"\"\"Built-in datasets for demonstration, educational and test purposes.\n",
    "\"\"\"\n",
    "\n",
    "from __future__ import absolute_import\n",
    "from plotly.data import *\n",
    "\n",
    "__all__ = [\n",
    "    \"carshare\",\n",
    "    \"election\",\n",
    "    \"election_geojson\",\n",
    "    \"experiment\",\n",
    "    \"gapminder\",\n",
    "    \"iris\",\n",
    "    \"medals_wide\",\n",
    "    \"medals_long\",\n",
    "    \"stocks\",\n",
    "    \"tips\",\n",
    "    \"wind\",\n",
    "]\n",
    "```"
   ]
  },
  {
   "cell_type": "code",
   "execution_count": null,
   "id": "008242c5",
   "metadata": {},
   "outputs": [],
   "source": [
    "print(f'carshare type: {type(plotly.data.carshare())}\\n')\n",
    "\n",
    "print(f'election type: {type(plotly.data.election())}\\n')\n",
    "\n",
    "print(f'election_geojson type: {type(plotly.data.election_geojson())}\\n')\n",
    "\n",
    "print(f'experiment type: {type(plotly.data.experiment())}\\n')\n",
    "\n",
    "print(f'gapminder type: {type(plotly.data.gapminder())}\\n')\n",
    "\n",
    "print(f'iris type: {type(plotly.data.iris())}\\n')\n",
    "\n",
    "print(f'medals_wide type: {type(plotly.data.medals_wide())}\\n')\n",
    "\n",
    "print(f'medals_long type: {type(plotly.data.medals_long())}\\n')\n",
    "\n",
    "print(f'stocks type: {type(plotly.data.stocks())}\\n')\n",
    "\n",
    "print(f'tips type: {type(plotly.data.tips())}\\n')\n",
    "\n",
    "print(f'wind type: {type(plotly.data.wind())}\\n')"
   ]
  },
  {
   "cell_type": "markdown",
   "id": "92145f41",
   "metadata": {},
   "source": [
    "## Dataframes"
   ]
  },
  {
   "cell_type": "markdown",
   "id": "84d827ab",
   "metadata": {},
   "source": [
    "### carshare"
   ]
  },
  {
   "cell_type": "code",
   "execution_count": null,
   "id": "ef5a1b8e",
   "metadata": {},
   "outputs": [],
   "source": [
    "df_carshare = plotly.data.carshare()"
   ]
  },
  {
   "cell_type": "code",
   "execution_count": null,
   "id": "03424587",
   "metadata": {},
   "outputs": [],
   "source": [
    "print_shape_and_head__and_column_types(df_carshare,5)"
   ]
  },
  {
   "cell_type": "code",
   "execution_count": null,
   "id": "2caf0dec",
   "metadata": {},
   "outputs": [],
   "source": [
    "print('Numerical column(s) summary statistics:')\n",
    "print(df_carshare.describe())"
   ]
  },
  {
   "cell_type": "markdown",
   "id": "eb359665",
   "metadata": {},
   "source": [
    "### election"
   ]
  },
  {
   "cell_type": "code",
   "execution_count": null,
   "id": "8ce7eaed",
   "metadata": {},
   "outputs": [],
   "source": [
    "df_election = plotly.data.election()"
   ]
  },
  {
   "cell_type": "code",
   "execution_count": null,
   "id": "4994e59c",
   "metadata": {},
   "outputs": [],
   "source": [
    "print_shape_and_head__and_column_types(df_election,5)"
   ]
  },
  {
   "cell_type": "code",
   "execution_count": null,
   "id": "b829aad7",
   "metadata": {},
   "outputs": [],
   "source": [
    "print('Numerical column(s) summary statistics:')\n",
    "print(df_election.describe())\n",
    "\n",
    "print('\\nObject column(s) summary statistics:')\n",
    "print(df_election.describe(include=['object']))"
   ]
  },
  {
   "cell_type": "markdown",
   "id": "da4510c8",
   "metadata": {},
   "source": [
    "### experiment"
   ]
  },
  {
   "cell_type": "code",
   "execution_count": null,
   "id": "3dfd57db",
   "metadata": {},
   "outputs": [],
   "source": [
    "df_experiment = plotly.data.experiment()"
   ]
  },
  {
   "cell_type": "code",
   "execution_count": null,
   "id": "c8b45929",
   "metadata": {},
   "outputs": [],
   "source": [
    "print_shape_and_head__and_column_types(df_experiment,5)"
   ]
  },
  {
   "cell_type": "code",
   "execution_count": null,
   "id": "ac7a93f6",
   "metadata": {},
   "outputs": [],
   "source": [
    "print('Numerical column(s) summary statistics:')\n",
    "print(df_experiment.describe())\n",
    "\n",
    "print('\\nObject column(s) summary statistics:')\n",
    "print(df_experiment.describe(include=['object']))"
   ]
  },
  {
   "cell_type": "markdown",
   "id": "6b392c32",
   "metadata": {},
   "source": [
    "### gapminder"
   ]
  },
  {
   "cell_type": "code",
   "execution_count": null,
   "id": "86020280",
   "metadata": {},
   "outputs": [],
   "source": [
    "df_gapminder = plotly.data.gapminder()"
   ]
  },
  {
   "cell_type": "code",
   "execution_count": null,
   "id": "d7990b27",
   "metadata": {},
   "outputs": [],
   "source": [
    "print_shape_and_head__and_column_types(df_gapminder,5)"
   ]
  },
  {
   "cell_type": "code",
   "execution_count": null,
   "id": "8d02b433",
   "metadata": {},
   "outputs": [],
   "source": [
    "print('Numerical column(s) summary statistics:')\n",
    "print(df_gapminder.describe())\n",
    "\n",
    "print('\\nObject column(s) summary statistics:')\n",
    "print(df_gapminder.describe(include=['object']))"
   ]
  },
  {
   "cell_type": "markdown",
   "id": "31769d79",
   "metadata": {},
   "source": [
    "### iris"
   ]
  },
  {
   "cell_type": "code",
   "execution_count": null,
   "id": "d9cfdd63",
   "metadata": {},
   "outputs": [],
   "source": [
    "df_iris =  plotly.data.iris()"
   ]
  },
  {
   "cell_type": "code",
   "execution_count": null,
   "id": "9fcc0ab4",
   "metadata": {},
   "outputs": [],
   "source": [
    "print_shape_and_head__and_column_types(df_iris,5)"
   ]
  },
  {
   "cell_type": "code",
   "execution_count": null,
   "id": "7ddab3a2",
   "metadata": {},
   "outputs": [],
   "source": [
    "print('Numerical column(s) summary statistics:')\n",
    "print(df_iris.describe())\n",
    "\n",
    "print('\\nObject column(s) summary statistics:')\n",
    "\n",
    "print(df_iris.describe(include=['object']))"
   ]
  },
  {
   "cell_type": "markdown",
   "id": "cfa2533d",
   "metadata": {},
   "source": [
    "### medals_wide"
   ]
  },
  {
   "cell_type": "code",
   "execution_count": null,
   "id": "de7e280e",
   "metadata": {},
   "outputs": [],
   "source": [
    "df_metals_wide =  plotly.data.medals_wide() "
   ]
  },
  {
   "cell_type": "code",
   "execution_count": null,
   "id": "d910f94a",
   "metadata": {},
   "outputs": [],
   "source": [
    "print_shape_and_head__and_column_types(df_metals_wide,5)"
   ]
  },
  {
   "cell_type": "code",
   "execution_count": null,
   "id": "c61a34d6",
   "metadata": {},
   "outputs": [],
   "source": [
    "print('Numerical column(s) summary statistics:')\n",
    "print(df_metals_wide.describe())\n",
    "\n",
    "print('\\nObject column(s) summary statistics:')\n",
    "\n",
    "print(df_metals_wide.describe(include=['object']))"
   ]
  },
  {
   "cell_type": "markdown",
   "id": "e1b75d64",
   "metadata": {},
   "source": [
    "### medals_long"
   ]
  },
  {
   "cell_type": "code",
   "execution_count": null,
   "id": "e3d74d22",
   "metadata": {},
   "outputs": [],
   "source": [
    "df_metals_long =  plotly.data.medals_long() "
   ]
  },
  {
   "cell_type": "code",
   "execution_count": null,
   "id": "692611ed",
   "metadata": {},
   "outputs": [],
   "source": [
    "print_shape_and_head__and_column_types(df_metals_long,5)"
   ]
  },
  {
   "cell_type": "code",
   "execution_count": null,
   "id": "34c7925a",
   "metadata": {},
   "outputs": [],
   "source": [
    "print('Numerical column(s) summary statistics:')\n",
    "print(df_metals_long.describe())\n",
    "\n",
    "print('\\nObject column(s) summary statistics:')\n",
    "\n",
    "print(df_metals_long.describe(include=['object']))"
   ]
  },
  {
   "cell_type": "markdown",
   "id": "ee399ac9",
   "metadata": {},
   "source": [
    "### stocks"
   ]
  },
  {
   "cell_type": "code",
   "execution_count": null,
   "id": "8193b728",
   "metadata": {},
   "outputs": [],
   "source": [
    "df_stocks =  plotly.data.stocks() "
   ]
  },
  {
   "cell_type": "code",
   "execution_count": null,
   "id": "0e430d14",
   "metadata": {},
   "outputs": [],
   "source": [
    "print_shape_and_head__and_column_types(df_stocks,5)"
   ]
  },
  {
   "cell_type": "code",
   "execution_count": null,
   "id": "1d8e5b16",
   "metadata": {},
   "outputs": [],
   "source": [
    "print('Numerical column(s) summary statistics:')\n",
    "print(df_stocks.describe())\n",
    "\n",
    "print('\\nObject column(s) summary statistics:')\n",
    "\n",
    "print(df_stocks.describe(include=['object']))"
   ]
  },
  {
   "cell_type": "markdown",
   "id": "dd9f0121",
   "metadata": {},
   "source": [
    "### tips"
   ]
  },
  {
   "cell_type": "code",
   "execution_count": null,
   "id": "3e83ac6a",
   "metadata": {},
   "outputs": [],
   "source": [
    "df_tips =  plotly.data.tips() "
   ]
  },
  {
   "cell_type": "code",
   "execution_count": null,
   "id": "2e7be037",
   "metadata": {},
   "outputs": [],
   "source": [
    "print_shape_and_head__and_column_types(df_tips,5)"
   ]
  },
  {
   "cell_type": "code",
   "execution_count": null,
   "id": "351e676c",
   "metadata": {},
   "outputs": [],
   "source": [
    "print('Numerical column(s) summary statistics:')\n",
    "print(df_tips.describe())\n",
    "\n",
    "print('\\nObject column(s) summary statistics:')\n",
    "\n",
    "print(df_tips.describe(include=['object']))"
   ]
  },
  {
   "cell_type": "markdown",
   "id": "67f43ea7",
   "metadata": {},
   "source": [
    "### wind"
   ]
  },
  {
   "cell_type": "code",
   "execution_count": null,
   "id": "14722baa",
   "metadata": {},
   "outputs": [],
   "source": [
    "df_wind =  plotly.data.wind()"
   ]
  },
  {
   "cell_type": "code",
   "execution_count": null,
   "id": "475a544f",
   "metadata": {},
   "outputs": [],
   "source": [
    "print_shape_and_head__and_column_types(df_wind,5)"
   ]
  },
  {
   "cell_type": "code",
   "execution_count": 82,
   "id": "93b1eb24",
   "metadata": {},
   "outputs": [
    {
     "name": "stdout",
     "output_type": "stream",
     "text": [
      "Numerical column(s) summary statistics:\n",
      "        frequency\n",
      "count  128.000000\n",
      "mean     0.766406\n",
      "std      0.649685\n",
      "min      0.050000\n",
      "25%      0.200000\n",
      "50%      0.600000\n",
      "75%      1.125000\n",
      "max      2.600000\n",
      "\n",
      "Object column(s) summary statistics:\n",
      "       direction strength\n",
      "count        128      128\n",
      "unique        16        8\n",
      "top          ESE      5-6\n",
      "freq           8       16\n"
     ]
    }
   ],
   "source": [
    "print('Numerical column(s) summary statistics:')\n",
    "print(df_wind.describe())\n",
    "\n",
    "print('\\nObject column(s) summary statistics:')\n",
    "print(df_wind.describe(include=['object']))"
   ]
  }
 ],
 "metadata": {
  "kernelspec": {
   "display_name": "Python 3",
   "language": "python",
   "name": "python3"
  },
  "language_info": {
   "codemirror_mode": {
    "name": "ipython",
    "version": 3
   },
   "file_extension": ".py",
   "mimetype": "text/x-python",
   "name": "python",
   "nbconvert_exporter": "python",
   "pygments_lexer": "ipython3",
   "version": "3.8.8"
  }
 },
 "nbformat": 4,
 "nbformat_minor": 5
}
