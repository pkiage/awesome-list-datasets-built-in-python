{
 "cells": [
  {
   "cell_type": "markdown",
   "id": "31f05ec4",
   "metadata": {},
   "source": [
    "Dynamic render: https://github.com/pkiage/awesome-list-datasets-built-in-python/blob/master/notebooks/plotly-built-in-data-sets.ipynb"
   ]
  },
  {
   "cell_type": "code",
   "execution_count": 1,
   "id": "063ed5db",
   "metadata": {},
   "outputs": [],
   "source": [
    "import plotly"
   ]
  },
  {
   "cell_type": "code",
   "execution_count": 2,
   "id": "5c11b0c1",
   "metadata": {},
   "outputs": [],
   "source": [
    "def print_shape_and_head__and_column_types(df,n):\n",
    "    print('Shape:')\n",
    "    print(f'({df.shape[0]} Rows, {df.shape[1]} Columns) \\n')\n",
    "    \n",
    "    print(f'First {n} rows:')\n",
    "    print(df.head(n))\n",
    "    \n",
    "    print('\\nColumn types:')\n",
    "    print(df.dtypes)    "
   ]
  },
  {
   "cell_type": "markdown",
   "id": "c5d0115b",
   "metadata": {},
   "source": [
    "# Built-in Datasets"
   ]
  },
  {
   "cell_type": "markdown",
   "id": "eba29c7f",
   "metadata": {},
   "source": [
    "```\n",
    "\"\"\"Built-in datasets for demonstration, educational and test purposes.\n",
    "\"\"\"\n",
    "\n",
    "from __future__ import absolute_import\n",
    "from plotly.data import *\n",
    "\n",
    "__all__ = [\n",
    "    \"carshare\",\n",
    "    \"election\",\n",
    "    \"election_geojson\",\n",
    "    \"experiment\",\n",
    "    \"gapminder\",\n",
    "    \"iris\",\n",
    "    \"medals_wide\",\n",
    "    \"medals_long\",\n",
    "    \"stocks\",\n",
    "    \"tips\",\n",
    "    \"wind\",\n",
    "]\n",
    "```"
   ]
  },
  {
   "cell_type": "code",
   "execution_count": 3,
   "id": "008242c5",
   "metadata": {},
   "outputs": [
    {
     "name": "stdout",
     "output_type": "stream",
     "text": [
      "carshare type: <class 'pandas.core.frame.DataFrame'>\n",
      "\n",
      "election type: <class 'pandas.core.frame.DataFrame'>\n",
      "\n",
      "election_geojson type: <class 'dict'>\n",
      "\n",
      "experiment type: <class 'pandas.core.frame.DataFrame'>\n",
      "\n",
      "gapminder type: <class 'pandas.core.frame.DataFrame'>\n",
      "\n",
      "iris type: <class 'pandas.core.frame.DataFrame'>\n",
      "\n",
      "medals_wide type: <class 'pandas.core.frame.DataFrame'>\n",
      "\n",
      "medals_long type: <class 'pandas.core.frame.DataFrame'>\n",
      "\n",
      "stocks type: <class 'pandas.core.frame.DataFrame'>\n",
      "\n",
      "tips type: <class 'pandas.core.frame.DataFrame'>\n",
      "\n",
      "wind type: <class 'pandas.core.frame.DataFrame'>\n",
      "\n"
     ]
    }
   ],
   "source": [
    "print(f'carshare type: {type(plotly.data.carshare())}\\n')\n",
    "\n",
    "print(f'election type: {type(plotly.data.election())}\\n')\n",
    "\n",
    "print(f'election_geojson type: {type(plotly.data.election_geojson())}\\n')\n",
    "\n",
    "print(f'experiment type: {type(plotly.data.experiment())}\\n')\n",
    "\n",
    "print(f'gapminder type: {type(plotly.data.gapminder())}\\n')\n",
    "\n",
    "print(f'iris type: {type(plotly.data.iris())}\\n')\n",
    "\n",
    "print(f'medals_wide type: {type(plotly.data.medals_wide())}\\n')\n",
    "\n",
    "print(f'medals_long type: {type(plotly.data.medals_long())}\\n')\n",
    "\n",
    "print(f'stocks type: {type(plotly.data.stocks())}\\n')\n",
    "\n",
    "print(f'tips type: {type(plotly.data.tips())}\\n')\n",
    "\n",
    "print(f'wind type: {type(plotly.data.wind())}\\n')"
   ]
  },
  {
   "cell_type": "markdown",
   "id": "92145f41",
   "metadata": {},
   "source": [
    "## Dataframes"
   ]
  },
  {
   "cell_type": "markdown",
   "id": "84d827ab",
   "metadata": {},
   "source": [
    "### carshare"
   ]
  },
  {
   "cell_type": "code",
   "execution_count": 4,
   "id": "ef5a1b8e",
   "metadata": {},
   "outputs": [],
   "source": [
    "df_carshare = plotly.data.carshare()"
   ]
  },
  {
   "cell_type": "code",
   "execution_count": 5,
   "id": "03424587",
   "metadata": {},
   "outputs": [
    {
     "name": "stdout",
     "output_type": "stream",
     "text": [
      "Shape:\n",
      "(249 Rows, 4 Columns) \n",
      "\n",
      "First 5 rows:\n",
      "   centroid_lat  centroid_lon    car_hours  peak_hour\n",
      "0     45.471549    -73.588684  1772.750000          2\n",
      "1     45.543865    -73.562456   986.333333         23\n",
      "2     45.487640    -73.642767   354.750000         20\n",
      "3     45.522870    -73.595677   560.166667         23\n",
      "4     45.453971    -73.738946  2836.666667         19\n",
      "\n",
      "Column types:\n",
      "centroid_lat    float64\n",
      "centroid_lon    float64\n",
      "car_hours       float64\n",
      "peak_hour         int64\n",
      "dtype: object\n"
     ]
    }
   ],
   "source": [
    "print_shape_and_head__and_column_types(df_carshare,5)"
   ]
  },
  {
   "cell_type": "code",
   "execution_count": 6,
   "id": "2caf0dec",
   "metadata": {},
   "outputs": [
    {
     "name": "stdout",
     "output_type": "stream",
     "text": [
      "Numerical column(s) summary statistics:\n",
      "       centroid_lat  centroid_lon    car_hours   peak_hour\n",
      "count    249.000000    249.000000   249.000000  249.000000\n",
      "mean      45.523417    -73.591834  1092.528782    8.787149\n",
      "std        0.035177      0.033098   572.187677    7.223874\n",
      "min       45.448903    -73.738946    33.250000    0.000000\n",
      "25%       45.497804    -73.618625   665.583333    3.000000\n",
      "50%       45.527905    -73.587318  1020.916667    5.000000\n",
      "75%       45.546145    -73.570955  1414.916667   15.000000\n",
      "max       45.610879    -73.512460  3274.000000   23.000000\n"
     ]
    }
   ],
   "source": [
    "print('Numerical column(s) summary statistics:')\n",
    "print(df_carshare.describe())"
   ]
  },
  {
   "cell_type": "markdown",
   "id": "eb359665",
   "metadata": {},
   "source": [
    "### election"
   ]
  },
  {
   "cell_type": "code",
   "execution_count": 7,
   "id": "8ce7eaed",
   "metadata": {},
   "outputs": [],
   "source": [
    "df_election = plotly.data.election()"
   ]
  },
  {
   "cell_type": "code",
   "execution_count": 8,
   "id": "4994e59c",
   "metadata": {},
   "outputs": [
    {
     "name": "stdout",
     "output_type": "stream",
     "text": [
      "Shape:\n",
      "(58 Rows, 8 Columns) \n",
      "\n",
      "First 5 rows:\n",
      "                district  Coderre  Bergeron  Joly  total    winner     result  \\\n",
      "0     101-Bois-de-Liesse     2481      1829  3024   7334      Joly  plurality   \n",
      "1  102-Cap-Saint-Jacques     2525      1163  2675   6363      Joly  plurality   \n",
      "2   11-Sault-au-Récollet     3348      2770  2532   8650   Coderre  plurality   \n",
      "3           111-Mile-End     1734      4782  2514   9030  Bergeron   majority   \n",
      "4         112-DeLorimier     1770      5933  3044  10747  Bergeron   majority   \n",
      "\n",
      "   district_id  \n",
      "0          101  \n",
      "1          102  \n",
      "2           11  \n",
      "3          111  \n",
      "4          112  \n",
      "\n",
      "Column types:\n",
      "district       object\n",
      "Coderre         int64\n",
      "Bergeron        int64\n",
      "Joly            int64\n",
      "total           int64\n",
      "winner         object\n",
      "result         object\n",
      "district_id     int64\n",
      "dtype: object\n"
     ]
    }
   ],
   "source": [
    "print_shape_and_head__and_column_types(df_election,5)"
   ]
  },
  {
   "cell_type": "code",
   "execution_count": 9,
   "id": "b829aad7",
   "metadata": {},
   "outputs": [
    {
     "name": "stdout",
     "output_type": "stream",
     "text": [
      "Numerical column(s) summary statistics:\n",
      "           Coderre     Bergeron         Joly         total  district_id\n",
      "count    58.000000    58.000000    58.000000     58.000000    58.000000\n",
      "mean   2577.017241  2045.465517  2121.758621   6744.241379    96.310345\n",
      "std    1502.950893  1543.416729   949.760954   2920.087672    56.504993\n",
      "min     332.000000   131.000000   326.000000    789.000000    11.000000\n",
      "25%    1546.500000   858.750000  1271.000000   4494.250000    45.000000\n",
      "50%    2426.000000  1598.000000  2299.000000   7476.500000    92.500000\n",
      "75%    3529.250000  2662.750000  2842.250000   9129.000000   139.250000\n",
      "max    6591.000000  6408.000000  3959.000000  11050.000000   194.000000\n",
      "\n",
      "Object column(s) summary statistics:\n",
      "                                                 district   winner     result\n",
      "count                                                  58       58         58\n",
      "unique                                                 58        3          2\n",
      "top     161-Saint-HenriPetite-BourgognePointe-Saint-Ch...  Coderre  plurality\n",
      "freq                                                    1       29         41\n"
     ]
    }
   ],
   "source": [
    "print('Numerical column(s) summary statistics:')\n",
    "print(df_election.describe())\n",
    "\n",
    "print('\\nObject column(s) summary statistics:')\n",
    "print(df_election.describe(include=['object']))"
   ]
  },
  {
   "cell_type": "markdown",
   "id": "da4510c8",
   "metadata": {},
   "source": [
    "### experiment"
   ]
  },
  {
   "cell_type": "code",
   "execution_count": 10,
   "id": "3dfd57db",
   "metadata": {},
   "outputs": [],
   "source": [
    "df_experiment = plotly.data.experiment()"
   ]
  },
  {
   "cell_type": "code",
   "execution_count": 11,
   "id": "c8b45929",
   "metadata": {},
   "outputs": [
    {
     "name": "stdout",
     "output_type": "stream",
     "text": [
      "Shape:\n",
      "(100 Rows, 5 Columns) \n",
      "\n",
      "First 5 rows:\n",
      "   experiment_1  experiment_2  experiment_3  gender      group\n",
      "0     96.876065     93.417942     73.033193    male    control\n",
      "1     87.301336    129.603395     66.056554  female    control\n",
      "2     97.691312    106.187916    103.422709    male  treatment\n",
      "3    102.978152     93.814682     56.995870  female  treatment\n",
      "4     87.106993    107.019985     72.140292    male    control\n",
      "\n",
      "Column types:\n",
      "experiment_1    float64\n",
      "experiment_2    float64\n",
      "experiment_3    float64\n",
      "gender           object\n",
      "group            object\n",
      "dtype: object\n"
     ]
    }
   ],
   "source": [
    "print_shape_and_head__and_column_types(df_experiment,5)"
   ]
  },
  {
   "cell_type": "code",
   "execution_count": 12,
   "id": "ac7a93f6",
   "metadata": {},
   "outputs": [
    {
     "name": "stdout",
     "output_type": "stream",
     "text": [
      "Numerical column(s) summary statistics:\n",
      "       experiment_1  experiment_2  experiment_3\n",
      "count    100.000000    100.000000    100.000000\n",
      "mean     101.298558    109.956715     89.146684\n",
      "std        9.425540     13.482655     19.000267\n",
      "min       79.429575     82.480713     25.528903\n",
      "25%       95.252586    100.245933     76.770010\n",
      "50%      101.804274    107.304949     90.497223\n",
      "75%      106.659661    118.560934    100.627723\n",
      "max      125.520425    143.685892    143.846432\n",
      "\n",
      "Object column(s) summary statistics:\n",
      "        gender      group\n",
      "count      100        100\n",
      "unique       2          2\n",
      "top     female  treatment\n",
      "freq        50         50\n"
     ]
    }
   ],
   "source": [
    "print('Numerical column(s) summary statistics:')\n",
    "print(df_experiment.describe())\n",
    "\n",
    "print('\\nObject column(s) summary statistics:')\n",
    "print(df_experiment.describe(include=['object']))"
   ]
  },
  {
   "cell_type": "markdown",
   "id": "6b392c32",
   "metadata": {},
   "source": [
    "### gapminder"
   ]
  },
  {
   "cell_type": "code",
   "execution_count": 13,
   "id": "86020280",
   "metadata": {},
   "outputs": [],
   "source": [
    "df_gapminder = plotly.data.gapminder()"
   ]
  },
  {
   "cell_type": "code",
   "execution_count": 14,
   "id": "d7990b27",
   "metadata": {},
   "outputs": [
    {
     "name": "stdout",
     "output_type": "stream",
     "text": [
      "Shape:\n",
      "(1704 Rows, 8 Columns) \n",
      "\n",
      "First 5 rows:\n",
      "       country continent  year  lifeExp       pop   gdpPercap iso_alpha  \\\n",
      "0  Afghanistan      Asia  1952   28.801   8425333  779.445314       AFG   \n",
      "1  Afghanistan      Asia  1957   30.332   9240934  820.853030       AFG   \n",
      "2  Afghanistan      Asia  1962   31.997  10267083  853.100710       AFG   \n",
      "3  Afghanistan      Asia  1967   34.020  11537966  836.197138       AFG   \n",
      "4  Afghanistan      Asia  1972   36.088  13079460  739.981106       AFG   \n",
      "\n",
      "   iso_num  \n",
      "0        4  \n",
      "1        4  \n",
      "2        4  \n",
      "3        4  \n",
      "4        4  \n",
      "\n",
      "Column types:\n",
      "country       object\n",
      "continent     object\n",
      "year           int64\n",
      "lifeExp      float64\n",
      "pop            int64\n",
      "gdpPercap    float64\n",
      "iso_alpha     object\n",
      "iso_num        int64\n",
      "dtype: object\n"
     ]
    }
   ],
   "source": [
    "print_shape_and_head__and_column_types(df_gapminder,5)"
   ]
  },
  {
   "cell_type": "code",
   "execution_count": 15,
   "id": "8d02b433",
   "metadata": {},
   "outputs": [
    {
     "name": "stdout",
     "output_type": "stream",
     "text": [
      "Numerical column(s) summary statistics:\n",
      "             year      lifeExp           pop      gdpPercap      iso_num\n",
      "count  1704.00000  1704.000000  1.704000e+03    1704.000000  1704.000000\n",
      "mean   1979.50000    59.474439  2.960121e+07    7215.327081   425.880282\n",
      "std      17.26533    12.917107  1.061579e+08    9857.454543   248.305709\n",
      "min    1952.00000    23.599000  6.001100e+04     241.165876     4.000000\n",
      "25%    1965.75000    48.198000  2.793664e+06    1202.060309   208.000000\n",
      "50%    1979.50000    60.712500  7.023596e+06    3531.846989   410.000000\n",
      "75%    1993.25000    70.845500  1.958522e+07    9325.462346   638.000000\n",
      "max    2007.00000    82.603000  1.318683e+09  113523.132900   894.000000\n",
      "\n",
      "Object column(s) summary statistics:\n",
      "       country continent iso_alpha\n",
      "count     1704      1704      1704\n",
      "unique     142         5       141\n",
      "top     Canada    Africa       KOR\n",
      "freq        12       624        24\n"
     ]
    }
   ],
   "source": [
    "print('Numerical column(s) summary statistics:')\n",
    "print(df_gapminder.describe())\n",
    "\n",
    "print('\\nObject column(s) summary statistics:')\n",
    "print(df_gapminder.describe(include=['object']))"
   ]
  },
  {
   "cell_type": "markdown",
   "id": "31769d79",
   "metadata": {},
   "source": [
    "### iris"
   ]
  },
  {
   "cell_type": "code",
   "execution_count": 16,
   "id": "d9cfdd63",
   "metadata": {},
   "outputs": [],
   "source": [
    "df_iris =  plotly.data.iris()"
   ]
  },
  {
   "cell_type": "code",
   "execution_count": 17,
   "id": "9fcc0ab4",
   "metadata": {},
   "outputs": [
    {
     "name": "stdout",
     "output_type": "stream",
     "text": [
      "Shape:\n",
      "(150 Rows, 6 Columns) \n",
      "\n",
      "First 5 rows:\n",
      "   sepal_length  sepal_width  petal_length  petal_width species  species_id\n",
      "0           5.1          3.5           1.4          0.2  setosa           1\n",
      "1           4.9          3.0           1.4          0.2  setosa           1\n",
      "2           4.7          3.2           1.3          0.2  setosa           1\n",
      "3           4.6          3.1           1.5          0.2  setosa           1\n",
      "4           5.0          3.6           1.4          0.2  setosa           1\n",
      "\n",
      "Column types:\n",
      "sepal_length    float64\n",
      "sepal_width     float64\n",
      "petal_length    float64\n",
      "petal_width     float64\n",
      "species          object\n",
      "species_id        int64\n",
      "dtype: object\n"
     ]
    }
   ],
   "source": [
    "print_shape_and_head__and_column_types(df_iris,5)"
   ]
  },
  {
   "cell_type": "code",
   "execution_count": 18,
   "id": "7ddab3a2",
   "metadata": {},
   "outputs": [
    {
     "name": "stdout",
     "output_type": "stream",
     "text": [
      "Numerical column(s) summary statistics:\n",
      "       sepal_length  sepal_width  petal_length  petal_width  species_id\n",
      "count    150.000000   150.000000    150.000000   150.000000  150.000000\n",
      "mean       5.843333     3.054000      3.758667     1.198667    2.000000\n",
      "std        0.828066     0.433594      1.764420     0.763161    0.819232\n",
      "min        4.300000     2.000000      1.000000     0.100000    1.000000\n",
      "25%        5.100000     2.800000      1.600000     0.300000    1.000000\n",
      "50%        5.800000     3.000000      4.350000     1.300000    2.000000\n",
      "75%        6.400000     3.300000      5.100000     1.800000    3.000000\n",
      "max        7.900000     4.400000      6.900000     2.500000    3.000000\n",
      "\n",
      "Object column(s) summary statistics:\n",
      "          species\n",
      "count         150\n",
      "unique          3\n",
      "top     virginica\n",
      "freq           50\n"
     ]
    }
   ],
   "source": [
    "print('Numerical column(s) summary statistics:')\n",
    "print(df_iris.describe())\n",
    "\n",
    "print('\\nObject column(s) summary statistics:')\n",
    "\n",
    "print(df_iris.describe(include=['object']))"
   ]
  },
  {
   "cell_type": "markdown",
   "id": "cfa2533d",
   "metadata": {},
   "source": [
    "### medals_wide"
   ]
  },
  {
   "cell_type": "code",
   "execution_count": 19,
   "id": "de7e280e",
   "metadata": {},
   "outputs": [],
   "source": [
    "df_metals_wide =  plotly.data.medals_wide() "
   ]
  },
  {
   "cell_type": "code",
   "execution_count": 20,
   "id": "d910f94a",
   "metadata": {},
   "outputs": [
    {
     "name": "stdout",
     "output_type": "stream",
     "text": [
      "Shape:\n",
      "(3 Rows, 4 Columns) \n",
      "\n",
      "First 5 rows:\n",
      "        nation  gold  silver  bronze\n",
      "0  South Korea    24      13      11\n",
      "1        China    10      15       8\n",
      "2       Canada     9      12      12\n",
      "\n",
      "Column types:\n",
      "nation    object\n",
      "gold       int64\n",
      "silver     int64\n",
      "bronze     int64\n",
      "dtype: object\n"
     ]
    }
   ],
   "source": [
    "print_shape_and_head__and_column_types(df_metals_wide,5)"
   ]
  },
  {
   "cell_type": "code",
   "execution_count": 21,
   "id": "c61a34d6",
   "metadata": {},
   "outputs": [
    {
     "name": "stdout",
     "output_type": "stream",
     "text": [
      "Numerical column(s) summary statistics:\n",
      "            gold     silver     bronze\n",
      "count   3.000000   3.000000   3.000000\n",
      "mean   14.333333  13.333333  10.333333\n",
      "std     8.386497   1.527525   2.081666\n",
      "min     9.000000  12.000000   8.000000\n",
      "25%     9.500000  12.500000   9.500000\n",
      "50%    10.000000  13.000000  11.000000\n",
      "75%    17.000000  14.000000  11.500000\n",
      "max    24.000000  15.000000  12.000000\n",
      "\n",
      "Object column(s) summary statistics:\n",
      "             nation\n",
      "count             3\n",
      "unique            3\n",
      "top     South Korea\n",
      "freq              1\n"
     ]
    }
   ],
   "source": [
    "print('Numerical column(s) summary statistics:')\n",
    "print(df_metals_wide.describe())\n",
    "\n",
    "print('\\nObject column(s) summary statistics:')\n",
    "\n",
    "print(df_metals_wide.describe(include=['object']))"
   ]
  },
  {
   "cell_type": "markdown",
   "id": "e1b75d64",
   "metadata": {},
   "source": [
    "### medals_long"
   ]
  },
  {
   "cell_type": "code",
   "execution_count": 22,
   "id": "e3d74d22",
   "metadata": {},
   "outputs": [],
   "source": [
    "df_metals_long =  plotly.data.medals_long() "
   ]
  },
  {
   "cell_type": "code",
   "execution_count": 23,
   "id": "692611ed",
   "metadata": {},
   "outputs": [
    {
     "name": "stdout",
     "output_type": "stream",
     "text": [
      "Shape:\n",
      "(9 Rows, 3 Columns) \n",
      "\n",
      "First 5 rows:\n",
      "        nation   medal  count\n",
      "0  South Korea    gold     24\n",
      "1        China    gold     10\n",
      "2       Canada    gold      9\n",
      "3  South Korea  silver     13\n",
      "4        China  silver     15\n",
      "\n",
      "Column types:\n",
      "nation    object\n",
      "medal     object\n",
      "count      int64\n",
      "dtype: object\n"
     ]
    }
   ],
   "source": [
    "print_shape_and_head__and_column_types(df_metals_long,5)"
   ]
  },
  {
   "cell_type": "code",
   "execution_count": 24,
   "id": "34c7925a",
   "metadata": {},
   "outputs": [
    {
     "name": "stdout",
     "output_type": "stream",
     "text": [
      "Numerical column(s) summary statistics:\n",
      "           count\n",
      "count   9.000000\n",
      "mean   12.666667\n",
      "std     4.743416\n",
      "min     8.000000\n",
      "25%    10.000000\n",
      "50%    12.000000\n",
      "75%    13.000000\n",
      "max    24.000000\n",
      "\n",
      "Object column(s) summary statistics:\n",
      "             nation   medal\n",
      "count             9       9\n",
      "unique            3       3\n",
      "top     South Korea  silver\n",
      "freq              3       3\n"
     ]
    }
   ],
   "source": [
    "print('Numerical column(s) summary statistics:')\n",
    "print(df_metals_long.describe())\n",
    "\n",
    "print('\\nObject column(s) summary statistics:')\n",
    "\n",
    "print(df_metals_long.describe(include=['object']))"
   ]
  },
  {
   "cell_type": "markdown",
   "id": "ee399ac9",
   "metadata": {},
   "source": [
    "### stocks"
   ]
  },
  {
   "cell_type": "code",
   "execution_count": 25,
   "id": "8193b728",
   "metadata": {},
   "outputs": [],
   "source": [
    "df_stocks =  plotly.data.stocks() "
   ]
  },
  {
   "cell_type": "code",
   "execution_count": 26,
   "id": "0e430d14",
   "metadata": {},
   "outputs": [
    {
     "name": "stdout",
     "output_type": "stream",
     "text": [
      "Shape:\n",
      "(105 Rows, 7 Columns) \n",
      "\n",
      "First 5 rows:\n",
      "         date      GOOG      AAPL      AMZN        FB      NFLX      MSFT\n",
      "0  2018-01-01  1.000000  1.000000  1.000000  1.000000  1.000000  1.000000\n",
      "1  2018-01-08  1.018172  1.011943  1.061881  0.959968  1.053526  1.015988\n",
      "2  2018-01-15  1.032008  1.019771  1.053240  0.970243  1.049860  1.020524\n",
      "3  2018-01-22  1.066783  0.980057  1.140676  1.016858  1.307681  1.066561\n",
      "4  2018-01-29  1.008773  0.917143  1.163374  1.018357  1.273537  1.040708\n",
      "\n",
      "Column types:\n",
      "date     object\n",
      "GOOG    float64\n",
      "AAPL    float64\n",
      "AMZN    float64\n",
      "FB      float64\n",
      "NFLX    float64\n",
      "MSFT    float64\n",
      "dtype: object\n"
     ]
    }
   ],
   "source": [
    "print_shape_and_head__and_column_types(df_stocks,5)"
   ]
  },
  {
   "cell_type": "code",
   "execution_count": 27,
   "id": "1d8e5b16",
   "metadata": {},
   "outputs": [
    {
     "name": "stdout",
     "output_type": "stream",
     "text": [
      "Numerical column(s) summary statistics:\n",
      "             GOOG        AAPL        AMZN          FB        NFLX        MSFT\n",
      "count  105.000000  105.000000  105.000000  105.000000  105.000000  105.000000\n",
      "mean     1.046206    1.138536    1.393822    0.945121    1.540559    1.318059\n",
      "std      0.077776    0.182109    0.140796    0.103350    0.200508    0.220662\n",
      "min      0.888689    0.847200    1.000000    0.668718    1.000000    0.988547\n",
      "25%      0.992924    1.000400    1.304091    0.879529    1.398876    1.142873\n",
      "50%      1.036372    1.095429    1.420278    0.959968    1.560884    1.242431\n",
      "75%      1.095189    1.236000    1.491702    1.016858    1.701605    1.543599\n",
      "max      1.226504    1.678000    1.637494    1.123575    1.957665    1.802472\n",
      "\n",
      "Object column(s) summary statistics:\n",
      "              date\n",
      "count          105\n",
      "unique         105\n",
      "top     2018-09-10\n",
      "freq             1\n"
     ]
    }
   ],
   "source": [
    "print('Numerical column(s) summary statistics:')\n",
    "print(df_stocks.describe())\n",
    "\n",
    "print('\\nObject column(s) summary statistics:')\n",
    "\n",
    "print(df_stocks.describe(include=['object']))"
   ]
  },
  {
   "cell_type": "markdown",
   "id": "dd9f0121",
   "metadata": {},
   "source": [
    "### tips"
   ]
  },
  {
   "cell_type": "code",
   "execution_count": 28,
   "id": "3e83ac6a",
   "metadata": {},
   "outputs": [],
   "source": [
    "df_tips =  plotly.data.tips() "
   ]
  },
  {
   "cell_type": "code",
   "execution_count": 29,
   "id": "2e7be037",
   "metadata": {},
   "outputs": [
    {
     "name": "stdout",
     "output_type": "stream",
     "text": [
      "Shape:\n",
      "(244 Rows, 7 Columns) \n",
      "\n",
      "First 5 rows:\n",
      "   total_bill   tip     sex smoker  day    time  size\n",
      "0       16.99  1.01  Female     No  Sun  Dinner     2\n",
      "1       10.34  1.66    Male     No  Sun  Dinner     3\n",
      "2       21.01  3.50    Male     No  Sun  Dinner     3\n",
      "3       23.68  3.31    Male     No  Sun  Dinner     2\n",
      "4       24.59  3.61  Female     No  Sun  Dinner     4\n",
      "\n",
      "Column types:\n",
      "total_bill    float64\n",
      "tip           float64\n",
      "sex            object\n",
      "smoker         object\n",
      "day            object\n",
      "time           object\n",
      "size            int64\n",
      "dtype: object\n"
     ]
    }
   ],
   "source": [
    "print_shape_and_head__and_column_types(df_tips,5)"
   ]
  },
  {
   "cell_type": "code",
   "execution_count": 30,
   "id": "351e676c",
   "metadata": {},
   "outputs": [
    {
     "name": "stdout",
     "output_type": "stream",
     "text": [
      "Numerical column(s) summary statistics:\n",
      "       total_bill         tip        size\n",
      "count  244.000000  244.000000  244.000000\n",
      "mean    19.785943    2.998279    2.569672\n",
      "std      8.902412    1.383638    0.951100\n",
      "min      3.070000    1.000000    1.000000\n",
      "25%     13.347500    2.000000    2.000000\n",
      "50%     17.795000    2.900000    2.000000\n",
      "75%     24.127500    3.562500    3.000000\n",
      "max     50.810000   10.000000    6.000000\n",
      "\n",
      "Object column(s) summary statistics:\n",
      "         sex smoker  day    time\n",
      "count    244    244  244     244\n",
      "unique     2      2    4       2\n",
      "top     Male     No  Sat  Dinner\n",
      "freq     157    151   87     176\n"
     ]
    }
   ],
   "source": [
    "print('Numerical column(s) summary statistics:')\n",
    "print(df_tips.describe())\n",
    "\n",
    "print('\\nObject column(s) summary statistics:')\n",
    "\n",
    "print(df_tips.describe(include=['object']))"
   ]
  },
  {
   "cell_type": "markdown",
   "id": "67f43ea7",
   "metadata": {},
   "source": [
    "### wind"
   ]
  },
  {
   "cell_type": "code",
   "execution_count": 31,
   "id": "14722baa",
   "metadata": {},
   "outputs": [],
   "source": [
    "df_wind =  plotly.data.wind()"
   ]
  },
  {
   "cell_type": "code",
   "execution_count": 32,
   "id": "475a544f",
   "metadata": {},
   "outputs": [
    {
     "name": "stdout",
     "output_type": "stream",
     "text": [
      "Shape:\n",
      "(128 Rows, 3 Columns) \n",
      "\n",
      "First 5 rows:\n",
      "  direction strength  frequency\n",
      "0         N      0-1        0.5\n",
      "1       NNE      0-1        0.6\n",
      "2        NE      0-1        0.5\n",
      "3       ENE      0-1        0.4\n",
      "4         E      0-1        0.4\n",
      "\n",
      "Column types:\n",
      "direction     object\n",
      "strength      object\n",
      "frequency    float64\n",
      "dtype: object\n"
     ]
    }
   ],
   "source": [
    "print_shape_and_head__and_column_types(df_wind,5)"
   ]
  },
  {
   "cell_type": "code",
   "execution_count": 33,
   "id": "93b1eb24",
   "metadata": {},
   "outputs": [
    {
     "name": "stdout",
     "output_type": "stream",
     "text": [
      "Numerical column(s) summary statistics:\n",
      "        frequency\n",
      "count  128.000000\n",
      "mean     0.766406\n",
      "std      0.649685\n",
      "min      0.050000\n",
      "25%      0.200000\n",
      "50%      0.600000\n",
      "75%      1.125000\n",
      "max      2.600000\n",
      "\n",
      "Object column(s) summary statistics:\n",
      "       direction strength\n",
      "count        128      128\n",
      "unique        16        8\n",
      "top           NW      0-1\n",
      "freq           8       16\n"
     ]
    }
   ],
   "source": [
    "print('Numerical column(s) summary statistics:')\n",
    "print(df_wind.describe())\n",
    "\n",
    "print('\\nObject column(s) summary statistics:')\n",
    "print(df_wind.describe(include=['object']))"
   ]
  }
 ],
 "metadata": {
  "kernelspec": {
   "display_name": "Python 3",
   "language": "python",
   "name": "python3"
  },
  "language_info": {
   "codemirror_mode": {
    "name": "ipython",
    "version": 3
   },
   "file_extension": ".py",
   "mimetype": "text/x-python",
   "name": "python",
   "nbconvert_exporter": "python",
   "pygments_lexer": "ipython3",
   "version": "3.8.8"
  }
 },
 "nbformat": 4,
 "nbformat_minor": 5
}
